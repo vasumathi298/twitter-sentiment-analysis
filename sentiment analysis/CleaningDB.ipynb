{
 "cells": [
  {
   "cell_type": "code",
   "execution_count": 15,
   "metadata": {},
   "outputs": [],
   "source": [
    "import psycopg2\n",
    "from postgres_credentials import *"
   ]
  },
  {
   "cell_type": "code",
   "execution_count": 16,
   "metadata": {},
   "outputs": [],
   "source": [
    "def delete_rows(name):\n",
    "    conn_twitter_del = psycopg2.connect(dbname=dbnametwitter, user=usertwitter, password=passwordtwitter, host=hosttwitter, port=porttwitter)\n",
    "    cursor_twitter_del = conn_twitter_del.cursor()\n",
    "\n",
    "    cursor_twitter_del.execute(\"DELETE FROM %s a using %s b WHERE a.id>b.id AND a.tweet = b.tweet;\" %(name, name,))\n",
    "\n",
    "    conn_twitter_del.commit()\n",
    "\n",
    "    cursor_twitter_del.close()\n",
    "    conn_twitter_del.close()"
   ]
  },
  {
   "cell_type": "code",
   "execution_count": 17,
   "metadata": {},
   "outputs": [],
   "source": [
    "name = \"tweets_avengers\"\n",
    "name2 = \"tweets_predict_avengers\""
   ]
  },
  {
   "cell_type": "code",
   "execution_count": 18,
   "metadata": {},
   "outputs": [],
   "source": [
    "delete_rows(name)"
   ]
  },
  {
   "cell_type": "code",
   "execution_count": 19,
   "metadata": {},
   "outputs": [],
   "source": [
    "delete_rows(name2)"
   ]
  }
 ],
 "metadata": {
  "kernelspec": {
   "display_name": "Python 3",
   "language": "python",
   "name": "python3"
  },
  "language_info": {
   "codemirror_mode": {
    "name": "ipython",
    "version": 3
   },
   "file_extension": ".py",
   "mimetype": "text/x-python",
   "name": "python",
   "nbconvert_exporter": "python",
   "pygments_lexer": "ipython3",
   "version": "3.6.6"
  }
 },
 "nbformat": 4,
 "nbformat_minor": 2
}

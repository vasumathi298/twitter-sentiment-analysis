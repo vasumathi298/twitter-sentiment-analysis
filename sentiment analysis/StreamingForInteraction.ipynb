{
 "cells": [
  {
   "cell_type": "code",
   "execution_count": 10,
   "metadata": {},
   "outputs": [],
   "source": [
    "import tweepy \n",
    "import json\n",
    "\n",
    "#Importing twitter credentials\n",
    "from twitter_credentials import *"
   ]
  },
  {
   "cell_type": "code",
   "execution_count": 11,
   "metadata": {},
   "outputs": [],
   "source": [
    "#Accesing twitter from the App created in my account\n",
    "def autorize_twitter_api():\n",
    "    \"\"\"\n",
    "    This function gets the consumer key, consumer secret key, access token \n",
    "    and access token secret given by the app created in your Twitter account\n",
    "    and authenticate them with Tweepy.\n",
    "    \"\"\"\n",
    "    #Get access and costumer key and tokens\n",
    "    auth = tweepy.OAuthHandler(consumer_key, consumer_secret)\n",
    "    auth.set_access_token(access_token, access_token_secret)\n",
    "    \n",
    "    return auth"
   ]
  },
  {
   "cell_type": "code",
   "execution_count": 12,
   "metadata": {},
   "outputs": [],
   "source": [
    "class MyStreamListener(tweepy.StreamListener):\n",
    "    \n",
    "    \"\"\"\n",
    "    def on_status(self, status):\n",
    "        print(status.text)\n",
    "    \"\"\"\n",
    "    def __init__(self, filename, api=None):\n",
    "        self.filename = filename\n",
    "    \n",
    "        tweepy.StreamListener.__init__(self, api=api)\n",
    "\n",
    "        \n",
    "    def on_data(self, raw_data):\n",
    "\n",
    "        try:\n",
    "            with open(self.filename, 'a') as file:\n",
    "                file.write(raw_data)\n",
    "  \n",
    "            \n",
    "        except Exception as e:\n",
    "            print(e)\n",
    "    \n",
    "    def on_error(self, status_code):\n",
    "        if status_code == 420:\n",
    "            #returning False in on_error disconnects the stream\n",
    "            return False"
   ]
  },
  {
   "cell_type": "code",
   "execution_count": null,
   "metadata": {},
   "outputs": [],
   "source": [
    "# For realtime streaming\n",
    "if __name__ == \"__main__\": \n",
    "    #Creates the table for storing the tweets\n",
    "    term_to_search = \"avengers\"\n",
    "    \n",
    "    #Connect to the streaming twitter API\n",
    "    api = tweepy.API(wait_on_rate_limit_notify=True)\n",
    "    \n",
    "    #Stream the tweets\n",
    "    streamer = tweepy.Stream(auth=autorize_twitter_api(), listener=MyStreamListener(api=api, filename='tweets.txt'))\n",
    "    streamer.filter(languages=[\"en\"], track=[term_to_search])   \n",
    "    myStream.disconnect()"
   ]
  },
  {
   "cell_type": "code",
   "execution_count": null,
   "metadata": {},
   "outputs": [],
   "source": []
  }
 ],
 "metadata": {
  "kernelspec": {
   "display_name": "Python 3",
   "language": "python",
   "name": "python3"
  },
  "language_info": {
   "codemirror_mode": {
    "name": "ipython",
    "version": 3
   },
   "file_extension": ".py",
   "mimetype": "text/x-python",
   "name": "python",
   "nbconvert_exporter": "python",
   "pygments_lexer": "ipython3",
   "version": "3.6.6"
  }
 },
 "nbformat": 4,
 "nbformat_minor": 2
}

{
 "cells": [
  {
   "cell_type": "markdown",
   "metadata": {},
   "source": [
    "## Importing Modules"
   ]
  },
  {
   "cell_type": "code",
   "execution_count": 2,
   "metadata": {},
   "outputs": [
    {
     "name": "stderr",
     "output_type": "stream",
     "text": [
      "Using TensorFlow backend.\n"
     ]
    }
   ],
   "source": [
    "#%matplotlib notebook\n",
    "from tqdm import tqdm\n",
    "%matplotlib inline\n",
    "#Module to handle regular expressions\n",
    "import re\n",
    "#manage files\n",
    "import os\n",
    "#Library for emoji\n",
    "import emoji\n",
    "#Import pandas and numpy to handle data\n",
    "import pandas as pd\n",
    "import numpy as np\n",
    "\n",
    "#import libraries for accessing the database\n",
    "import psycopg2\n",
    "from sqlalchemy import create_engine\n",
    "from postgres_credentials import *\n",
    "\n",
    "#import libraries for visualization\n",
    "import matplotlib.pyplot as plt\n",
    "import seaborn as sns\n",
    "from wordcloud import WordCloud\n",
    "from PIL import Image\n",
    "\n",
    "#Import nltk to check english lexicon\n",
    "import nltk\n",
    "from nltk.tokenize import word_tokenize\n",
    "from nltk.corpus import (\n",
    "    wordnet,\n",
    "    stopwords\n",
    ")\n",
    "\n",
    "#import libraries for tokenization and ML\n",
    "import json;\n",
    "import keras;\n",
    "import keras.preprocessing.text as kpt;\n",
    "#from keras.preprocessing.text import Tokenizer;\n",
    "\n",
    "import sklearn\n",
    "from sklearn.preprocessing import Normalizer\n",
    "from sklearn.feature_extraction.text import (\n",
    "    CountVectorizer,\n",
    "    TfidfVectorizer\n",
    ")\n",
    "from sklearn.model_selection import train_test_split\n",
    "from sklearn.metrics import accuracy_score\n",
    "\n",
    "#Import all libraries for creating a deep neural network\n",
    "#Sequential is the standard type of neural network with stackable layers\n",
    "from keras.models import (\n",
    "    Sequential,\n",
    "    model_from_json\n",
    ")\n",
    "#Dense: Standard layers with every node connected, dropout: avoids overfitting\n",
    "from keras.layers import Dense, Dropout, Activation;\n",
    "\n",
    "#To anotate database\n",
    "from pycorenlp import StanfordCoreNLP"
   ]
  },
  {
   "cell_type": "code",
   "execution_count": 3,
   "metadata": {},
   "outputs": [],
   "source": [
    "#Querying the database\n",
    "def query_database(tabletweets):\n",
    "    engine = create_engine(\"postgresql+psycopg2://%s:%s@%s:%d/%s\" %(usertwitter, passwordtwitter, hosttwitter, porttwitter, dbnametwitter))\n",
    "    table = pd.read_sql_query(\"select * from %s\" %tabletweets,con=engine, index_col=\"id\")\n",
    "    return table"
   ]
  },
  {
   "cell_type": "markdown",
   "metadata": {},
   "source": [
    "## Preprocessing the text"
   ]
  },
  {
   "cell_type": "markdown",
   "metadata": {},
   "source": [
    "Before we dig into analyzing the public opinion on 'Avengers', there is an important step that we need to take: preprocessing the tweet text. But what does this mean? Text preprocessing includes a basic text cleaning following a set of simple rules commonly used but also, advanced techniques that takes into account syntactic and lexical information."
   ]
  },
  {
   "cell_type": "code",
   "execution_count": 4,
   "metadata": {},
   "outputs": [],
   "source": [
    "#preprocess text in tweets by removing links, @UserNames, blank spaces, etc.\n",
    "def preprocessing_text(table):\n",
    "    #put everythin in lowercase\n",
    "    table['tweet'] = table['tweet'].str.lower()\n",
    "    #Replace rt indicating that was a retweet\n",
    "    table['tweet'] = table['tweet'].str.replace('rt', '')\n",
    "    #Replace occurences of mentioning @UserNames\n",
    "    table['tweet'] = table['tweet'].replace(r'@\\w+', '', regex=True)\n",
    "    #Replace links contained in the tweet\n",
    "    table['tweet'] = table['tweet'].replace(r'http\\S+', '', regex=True)\n",
    "    table['tweet'] = table['tweet'].replace(r'www.[^ ]+', '', regex=True)\n",
    "    #remove numbers\n",
    "    table['tweet'] = table['tweet'].replace(r'[0-9]+', '', regex=True)\n",
    "    #replace special characters and puntuation marks\n",
    "    table['tweet'] = table['tweet'].replace(r'[!\"#$%&()*+,-./:;<=>?@[\\]^_`{|}~]', '', regex=True)\n",
    "    return table    "
   ]
  },
  {
   "cell_type": "code",
   "execution_count": 5,
   "metadata": {},
   "outputs": [],
   "source": [
    "#Replace elongated words by identifying those repeated characters and then remove them and compare the new word with the english lexicon\n",
    "def in_dict(word):\n",
    "    if wordnet.synsets(word):\n",
    "        #if the word is in the dictionary, we'll return True\n",
    "        return True\n",
    "\n",
    "def replace_elongated_word(word):\n",
    "    regex = r'(\\w*)(\\w+)\\2(\\w*)'\n",
    "    repl = r'\\1\\2\\3'    \n",
    "    if in_dict(word):\n",
    "        return word\n",
    "    new_word = re.sub(regex, repl, word)\n",
    "    if new_word != word:\n",
    "        return replace_elongated_word(new_word)\n",
    "    else:\n",
    "        return new_word\n",
    "\n",
    "def detect_elongated_words(row):\n",
    "    regexrep = r'(\\w*)(\\w+)(\\2)(\\w*)'\n",
    "    words = [''.join(i) for i in re.findall(regexrep, row)]\n",
    "    for word in words:\n",
    "        if not in_dict(word):\n",
    "            row = re.sub(word, replace_elongated_word(word), row)\n",
    "    return row "
   ]
  },
  {
   "cell_type": "code",
   "execution_count": 6,
   "metadata": {},
   "outputs": [],
   "source": [
    "def stop_words(table):\n",
    "    #We need to remove the stop words\n",
    "    stop_words_list = stopwords.words('english')\n",
    "    table['tweet'] = table['tweet'].str.lower()\n",
    "    table['tweet'] = table['tweet'].apply(lambda x: ' '.join([word for word in x.split() if word not in (stop_words_list)]))\n",
    "    return table"
   ]
  },
  {
   "cell_type": "code",
   "execution_count": 7,
   "metadata": {},
   "outputs": [],
   "source": [
    "def replace_antonyms(word):\n",
    "    #We get all the lemma for the word\n",
    "    for syn in wordnet.synsets(word): \n",
    "        for lemma in syn.lemmas(): \n",
    "            #if the lemma is an antonyms of the word\n",
    "            if lemma.antonyms(): \n",
    "                #we return the antonym\n",
    "                return lemma.antonyms()[0].name()\n",
    "    return word\n",
    "            \n",
    "def handling_negation(row):\n",
    "    #Tokenize the row\n",
    "    words = word_tokenize(row)\n",
    "    speach_tags = ['JJ', 'JJR', 'JJS', 'NN', 'VB', 'VBD', 'VBG', 'VBN', 'VBP']\n",
    "    #We obtain the type of words that we have in the text, we use the pos_tag function\n",
    "    tags = nltk.pos_tag(words)\n",
    "    #Now we ask if we found a negation in the words\n",
    "    tags_2 = ''\n",
    "    if \"n't\" in words and \"not\" in words:\n",
    "        tags_2 = tags[min(words.index(\"n't\"), words.index(\"not\")):]\n",
    "        words_2 = words[min(words.index(\"n't\"), words.index(\"not\")):]\n",
    "        words = words[:(min(words.index(\"n't\"), words.index(\"not\")))+1]\n",
    "    elif \"n't\" in words:\n",
    "        tags_2 = tags[words.index(\"n't\"):]\n",
    "        words_2 = words[words.index(\"n't\"):] \n",
    "        words = words[:words.index(\"n't\")+1]\n",
    "    elif \"not\" in words:\n",
    "        tags_2 = tags[words.index(\"not\"):]\n",
    "        words_2 = words[words.index(\"not\"):]\n",
    "        words = words[:words.index(\"not\")+1] \n",
    "        \n",
    "    for index, word_tag in enumerate(tags_2):\n",
    "        if word_tag[1] in speach_tags:\n",
    "            words = words+[replace_antonyms(word_tag[0])]+words_2[index+2:]\n",
    "            break\n",
    "            \n",
    "    return ' '.join(words)    "
   ]
  },
  {
   "cell_type": "code",
   "execution_count": 8,
   "metadata": {},
   "outputs": [],
   "source": [
    "def cleaning_table(table):\n",
    "    #This function will process all the required cleaning for the text in our tweets\n",
    "    table = preprocessing_text(table)\n",
    "    table['tweet'] = table['tweet'].apply(lambda x: detect_elongated_words(x))\n",
    "    table['tweet'] = table['tweet'].apply(lambda x: handling_negation(x))\n",
    "    table = stop_words(table)\n",
    "    return table"
   ]
  },
  {
   "cell_type": "markdown",
   "metadata": {},
   "source": [
    "## Data Visualization"
   ]
  },
  {
   "cell_type": "markdown",
   "metadata": {},
   "source": [
    "After we have cleaned our data but before we start building our model for sentiment analysis, we can perform an exploratory data analysis to see what are the most frequent words that appear in our 'Avengers' tweets. For this part, we will show graphs regarding tweets labelled as positive separated from those labelled as negative."
   ]
  },
  {
   "cell_type": "code",
   "execution_count": 9,
   "metadata": {},
   "outputs": [],
   "source": [
    "#Vectorization for Data Visualization\n",
    "def vectorization(table):\n",
    "    #CountVectorizer will convert a collection of text documents to a matrix of token counts\n",
    "    #Produces a sparse representation of the counts \n",
    "    #Initialize\n",
    "    vector = CountVectorizer()\n",
    "    #We fit and transform the vector created\n",
    "    frequency_matrix = vector.fit_transform(table.tweet)\n",
    "    #Sum all the frequencies for each word\n",
    "    sum_frequencies = np.sum(frequency_matrix, axis=0)\n",
    "    #Now we use squeeze to remove single-dimensional entries from the shape of an array that we got from applying np.asarray to\n",
    "    #the sum of frequencies.\n",
    "    frequency = np.squeeze(np.asarray(sum_frequencies))\n",
    "    #Now we get into a dataframe all the frequencies and the words that they correspond to\n",
    "    frequency_df = pd.DataFrame([frequency], columns=vector.get_feature_names()).transpose()\n",
    "    return frequency_df"
   ]
  },
  {
   "cell_type": "code",
   "execution_count": 10,
   "metadata": {},
   "outputs": [],
   "source": [
    "def word_cloud(tweets):\n",
    "    \n",
    "    #We get the directory that we are working on\n",
    "    file = os.getcwd()\n",
    "    #We read the mask image into a numpy array\n",
    "    avengers_mask = np.array(Image.open(os.path.join(file, \"avengers.png\")))\n",
    "    #Now we store the tweets into a series to be able to process \n",
    "    #tweets_list = pd.Series([t for t in tweet_table.tweet]).str.cat(sep=' ')  \n",
    "    #We generate the wordcloud using the series created and the mask \n",
    "    word_cloud = WordCloud(width=2000, height=1000, max_font_size=200, background_color=\"black\", max_words=2000, mask=avengers_mask, contour_width=1, \n",
    "                           contour_color=\"steelblue\", colormap=\"nipy_spectral\", stopwords=[\"avengers\"])\n",
    "    word_cloud.generate(tweets)\n",
    "    \n",
    "    #wordcloud = WordCloud(width=1600, height=800,max_font_size=200).generate(tweets_list)\n",
    "    \n",
    "    #Now we plot both figures, the wordcloud and the mask\n",
    "    #plt.figure(figsize=(15,15))\n",
    "    plt.figure(figsize=(10,10))\n",
    "    plt.imshow(word_cloud, interpolation=\"hermite\")\n",
    "    plt.axis(\"off\")\n",
    "    #plt.imshow(avengers_mask, cmap=plt.cm.gray, interpolation=\"bilinear\")\n",
    "    #plt.axis(\"off\")    \n",
    "    plt.show()  "
   ]
  },
  {
   "cell_type": "code",
   "execution_count": 11,
   "metadata": {},
   "outputs": [],
   "source": [
    "def graph(word_frequency, sent):\n",
    "    labels = word_frequency[0][1:51].index\n",
    "    title = \"Word Frequency for %s\" %sent\n",
    "    #Plot the figures\n",
    "    plt.figure(figsize=(10,5))\n",
    "    plt.bar(np.arange(50), word_frequency[0][1:51], width = 0.8, color = sns.color_palette(\"bwr\"), alpha=0.5, \n",
    "            edgecolor = \"black\", capsize=8, linewidth=1);\n",
    "    plt.xticks(np.arange(50), labels, rotation=90, size=14);\n",
    "    plt.xlabel(\"50 more frequent words\", size=14);\n",
    "    plt.ylabel(\"Frequency\", size=14);\n",
    "    #plt.title('Word Frequency for %s', size=18) %sent;\n",
    "    plt.title(title, size=18)\n",
    "    plt.grid(False);\n",
    "    plt.gca().spines[\"top\"].set_visible(False);\n",
    "    plt.gca().spines[\"right\"].set_visible(False);\n",
    "    plt.show() "
   ]
  },
  {
   "cell_type": "code",
   "execution_count": 12,
   "metadata": {},
   "outputs": [],
   "source": [
    "def regression_graph(table):\n",
    "    table = table[1:]\n",
    "    #We set the style of seaborn\n",
    "    sns.set_style(\"whitegrid\")   \n",
    "    #Initialize the figure\n",
    "    plt.figure(figsize=(6,6))\n",
    "    \n",
    "    #we obtain the points from matplotlib scatter\n",
    "    points = plt.scatter(table[\"Positive\"], table[\"Negative\"], c=table[\"Positive\"], s=75, cmap=\"bwr\")\n",
    "    #graph the colorbar\n",
    "    plt.colorbar(points)\n",
    "    #we graph the regplot from seaborn\n",
    "    sns.regplot(x=\"Positive\", y=\"Negative\",fit_reg=False, scatter=False, color=\".1\", data=table)\n",
    "    plt.xlabel(\"Frequency for Positive Tweets\", size=14)\n",
    "    plt.ylabel(\"Frequency for Negative Tweets\", size=14)\n",
    "    plt.title(\"Word frequency in Positive vs. Negative Tweets\", size=14)\n",
    "    plt.grid(False)\n",
    "    sns.despine()"
   ]
  },
  {
   "cell_type": "markdown",
   "metadata": {},
   "source": [
    "## Preparing data for model"
   ]
  },
  {
   "cell_type": "markdown",
   "metadata": {},
   "source": [
    "After visualizing our data, the next step is to split our dataset into training and test sets. For doing so, we'll take advantage of the train_test_split functionality of sklearn package. We will take 20% of the dataset for testing following the 20–80% rule. From the remaining 80% used for the training set, we'll save a part for validation of our model."
   ]
  },
  {
   "cell_type": "code",
   "execution_count": 13,
   "metadata": {},
   "outputs": [],
   "source": [
    "#Split Data into training and test dataset\n",
    "def splitting(table):\n",
    "    X_train, X_test, y_train, y_test = train_test_split(table.tweet, table.sentiment, test_size=0.2, shuffle=True)\n",
    "    return X_train, X_test, y_train, y_test"
   ]
  },
  {
   "cell_type": "markdown",
   "metadata": {},
   "source": [
    "m"
   ]
  },
  {
   "cell_type": "code",
   "execution_count": 14,
   "metadata": {},
   "outputs": [],
   "source": [
    "#Tokenization for analysis\n",
    "def tokenization_tweets(dataset, features):\n",
    "    tokenization = TfidfVectorizer(max_features=features)\n",
    "    tokenization.fit(dataset)\n",
    "    dataset_transformed = tokenization.transform(dataset).toarray()\n",
    "    return dataset_transformed"
   ]
  },
  {
   "cell_type": "markdown",
   "metadata": {},
   "source": [
    "## Train model"
   ]
  },
  {
   "cell_type": "code",
   "execution_count": 15,
   "metadata": {},
   "outputs": [],
   "source": [
    "#Create a Neural Network\n",
    "#Create the model\n",
    "def train(X_train_mod, y_train, features, shuffle, drop, layer1, layer2, epoch, lr, epsilon, validation):\n",
    "    model_nn = Sequential()\n",
    "    model_nn.add(Dense(layer1, input_shape=(features,), activation='relu'))\n",
    "    model_nn.add(Dropout(drop))\n",
    "    model_nn.add(Dense(layer2, activation='sigmoid'))\n",
    "    model_nn.add(Dropout(drop))\n",
    "    model_nn.add(Dense(3, activation='softmax'))\n",
    "    \n",
    "    optimizer = keras.optimizers.Adam(lr=lr, beta_1=0.9, beta_2=0.999, epsilon=epsilon, decay=0.0, amsgrad=False)\n",
    "    model_nn.compile(loss='sparse_categorical_crossentropy',\n",
    "                 optimizer=optimizer,\n",
    "                 metrics=['accuracy'])\n",
    "    model_nn.fit(np.array(X_train_mod), y_train,\n",
    "                 batch_size=32,\n",
    "                 epochs=epoch,\n",
    "                 verbose=1,\n",
    "                 validation_split=validation,\n",
    "                 shuffle=shuffle)\n",
    "    return model_nn"
   ]
  },
  {
   "cell_type": "markdown",
   "metadata": {},
   "source": [
    "## Test model"
   ]
  },
  {
   "cell_type": "code",
   "execution_count": 16,
   "metadata": {},
   "outputs": [],
   "source": [
    "def test(X_test, model_nn):\n",
    "    prediction = model_nn.predict(X_test)\n",
    "    return prediction"
   ]
  },
  {
   "cell_type": "markdown",
   "metadata": {},
   "source": [
    "## Main code"
   ]
  },
  {
   "cell_type": "code",
   "execution_count": 17,
   "metadata": {},
   "outputs": [],
   "source": [
    "if __name__ == \"__main__\":\n",
    "    tabletweets = \"tweets_avengers\"\n",
    "    tweet_table = query_database(tabletweets)\n",
    "    tweet_table = cleaning_table(tweet_table)"
   ]
  },
  {
   "cell_type": "code",
   "execution_count": null,
   "metadata": {},
   "outputs": [],
   "source": [
    "if __name__ == \"__main__\":    \n",
    "    #First we draw a word cloud\n",
    "    #For All tweets\n",
    "    word_cloud(pd.Series([t for t in tweet_table.tweet]).str.cat(sep=' '))    \n",
    "    #For positive tweets \n",
    "    word_cloud(pd.Series([t for t in tweet_table[tweet_table.sentiment == \"Positive\"].tweet]).str.cat(sep=' '))   \n",
    "    #For negative tweets\n",
    "    word_cloud(pd.Series([t for t in tweet_table[tweet_table.sentiment == \"Negative\"].tweet]).str.cat(sep=' '))"
   ]
  },
  {
   "cell_type": "code",
   "execution_count": 21,
   "metadata": {},
   "outputs": [
    {
     "data": {
      "image/png": "[encoded data removed]",
      "text/plain": [
       "<Figure size 720x360 with 1 Axes>"
      ]
     },
     "metadata": {
      "needs_background": "light"
     },
     "output_type": "display_data"
    },
    {
     "data": {
      "image/png": "[encoded data removed]",
      "text/plain": [
       "<Figure size 720x360 with 1 Axes>"
      ]
     },
     "metadata": {
      "needs_background": "light"
     },
     "output_type": "display_data"
    },
    {
     "data": {
      "image/png": "[encoded data removed]",
      "text/plain": [
       "<Figure size 720x360 with 1 Axes>"
      ]
     },
     "metadata": {
      "needs_background": "light"
     },
     "output_type": "display_data"
    }
   ],
   "source": [
    "if __name__ == \"__main__\":\n",
    "    #Get the frequency\n",
    "    word_frequency = vectorization(tweet_table).sort_values(0, ascending = False)\n",
    "    word_frequency_pos = vectorization(tweet_table[tweet_table['sentiment'] == 'Positive']).sort_values(0, ascending = False)\n",
    "    word_frequency_neg = vectorization(tweet_table[tweet_table['sentiment'] == 'Negative']).sort_values(0, ascending = False)\n",
    "\n",
    "    #Graph with frequency words all, positive and negative tweets and get the frequency\n",
    "    graph(word_frequency, 'all')\n",
    "    graph(word_frequency_pos, 'positive')\n",
    "    graph(word_frequency_neg, 'negative')"
   ]
  },
  {
   "cell_type": "code",
   "execution_count": 22,
   "metadata": {},
   "outputs": [
    {
     "data": {
      "image/png": "[encoded data removed]",
      "text/plain": [
       "<Figure size 432x432 with 2 Axes>"
      ]
     },
     "metadata": {},
     "output_type": "display_data"
    }
   ],
   "source": [
    "if __name__ == \"__main__\":\n",
    "    #Concatenate word frequency for positive and negative\n",
    "    table_regression = pd.concat([word_frequency_pos, word_frequency_neg], axis=1, sort=False)\n",
    "    table_regression.columns = [\"Positive\", \"Negative\"]\n",
    "    regression_graph(table_regression)"
   ]
  },
  {
   "cell_type": "code",
   "execution_count": 18,
   "metadata": {},
   "outputs": [],
   "source": [
    "if __name__ == \"__main__\":\n",
    "    tabletweets = \"tweets_avengers_labeled\"\n",
    "    tweet_table = query_database(tabletweets)"
   ]
  },
  {
   "cell_type": "code",
   "execution_count": 19,
   "metadata": {},
   "outputs": [],
   "source": [
    "if __name__ == \"__main__\":\n",
    "    tweet_table['sentiment'] = tweet_table['sentiment'].apply(lambda x: 2 if x == 'Positive' else (0 if x == 'Negative' else 1))"
   ]
  },
  {
   "cell_type": "code",
   "execution_count": 20,
   "metadata": {},
   "outputs": [],
   "source": [
    "if __name__ == \"__main__\":\n",
    "    X_train, X_test, y_train, y_test = splitting(tweet_table)"
   ]
  },
  {
   "cell_type": "code",
   "execution_count": 32,
   "metadata": {},
   "outputs": [
    {
     "name": "stdout",
     "output_type": "stream",
     "text": [
      "Train on 50712 samples, validate on 5635 samples\n",
      "Epoch 1/5\n",
      "50712/50712 [==============================] - 31s 618us/step - loss: 0.7807 - acc: 0.6350 - val_loss: 0.6618 - val_acc: 0.7043\n",
      "Epoch 2/5\n",
      "50712/50712 [==============================] - 31s 621us/step - loss: 0.5936 - acc: 0.7435 - val_loss: 0.6160 - val_acc: 0.7366\n",
      "Epoch 3/5\n",
      "50712/50712 [==============================] - 31s 602us/step - loss: 0.5211 - acc: 0.7807 - val_loss: 0.6024 - val_acc: 0.7462\n",
      "Epoch 4/5\n",
      "50712/50712 [==============================] - 32s 624us/step - loss: 0.4506 - acc: 0.8161 - val_loss: 0.6097 - val_acc: 0.7531\n",
      "Epoch 5/5\n",
      "50712/50712 [==============================] - 30s 597us/step - loss: 0.3870 - acc: 0.8419 - val_loss: 0.6486 - val_acc: 0.7542\n"
     ]
    },
    {
     "data": {
      "text/plain": [
       "<keras.engine.sequential.Sequential at 0x139ae4ba8>"
      ]
     },
     "execution_count": 32,
     "metadata": {},
     "output_type": "execute_result"
    }
   ],
   "source": [
    "def model1(X_train, y_train):   \n",
    "    features = 3500\n",
    "    shuffle = True\n",
    "    drop = 0.5\n",
    "    layer1 = 512\n",
    "    layer2 = 256\n",
    "    epoch = 5\n",
    "    lr = 0.001\n",
    "    epsilon = None\n",
    "    validation = 0.1\n",
    "    X_train_mod = tokenization_tweets(X_train, features)\n",
    "    model = train(X_train_mod, y_train, features, shuffle, drop, layer1, layer2, epoch, lr, epsilon, validation)\n",
    "    return model;\n",
    "model1(X_train, y_train)"
   ]
  },
  {
   "cell_type": "code",
   "execution_count": 33,
   "metadata": {},
   "outputs": [
    {
     "name": "stdout",
     "output_type": "stream",
     "text": [
      "Train on 50712 samples, validate on 5635 samples\n",
      "Epoch 1/5\n",
      "50712/50712 [==============================] - 26s 513us/step - loss: 0.7911 - acc: 0.6289 - val_loss: 0.6542 - val_acc: 0.7150\n",
      "Epoch 2/5\n",
      "50712/50712 [==============================] - 26s 512us/step - loss: 0.6067 - acc: 0.7405 - val_loss: 0.6259 - val_acc: 0.7315\n",
      "Epoch 3/5\n",
      "50712/50712 [==============================] - 27s 528us/step - loss: 0.5324 - acc: 0.7780 - val_loss: 0.6173 - val_acc: 0.7429\n",
      "Epoch 4/5\n",
      "50712/50712 [==============================] - 27s 528us/step - loss: 0.4668 - acc: 0.8118 - val_loss: 0.6237 - val_acc: 0.7496\n",
      "Epoch 5/5\n",
      "50712/50712 [==============================] - 26s 507us/step - loss: 0.4003 - acc: 0.8408 - val_loss: 0.6544 - val_acc: 0.7478\n"
     ]
    },
    {
     "data": {
      "text/plain": [
       "<keras.engine.sequential.Sequential at 0x138c2ddd8>"
      ]
     },
     "execution_count": 33,
     "metadata": {},
     "output_type": "execute_result"
    }
   ],
   "source": [
    "def model2(X_train, y_train):   \n",
    "    features = 3000\n",
    "    shufle = True\n",
    "    drop = 0.5\n",
    "    layer1 = 512\n",
    "    layer2 = 256\n",
    "    epoch = 5\n",
    "    lr = 0.001\n",
    "    epsilon = None\n",
    "    validation = 0.1\n",
    "    X_train_mod = tokenization_tweets(X_train, features)\n",
    "    model = train(X_train_mod, y_train, features, shufle, drop, layer1, layer2, epoch, lr, epsilon, validation)\n",
    "    return model;\n",
    "model2(X_train, y_train)"
   ]
  },
  {
   "cell_type": "code",
   "execution_count": 10,
   "metadata": {},
   "outputs": [
    {
     "name": "stdout",
     "output_type": "stream",
     "text": [
      "Train on 50712 samples, validate on 5635 samples\n",
      "Epoch 1/5\n",
      "50712/50712 [==============================] - 32s 631us/step - loss: 0.7493 - acc: 0.6528 - val_loss: 0.6321 - val_acc: 0.7244\n",
      "Epoch 2/5\n",
      "50712/50712 [==============================] - 32s 626us/step - loss: 0.5775 - acc: 0.7510 - val_loss: 0.5998 - val_acc: 0.7400\n",
      "Epoch 3/5\n",
      "50712/50712 [==============================] - 30s 587us/step - loss: 0.4820 - acc: 0.7993 - val_loss: 0.5909 - val_acc: 0.7571\n",
      "Epoch 4/5\n",
      "50712/50712 [==============================] - 29s 568us/step - loss: 0.3842 - acc: 0.8428 - val_loss: 0.6090 - val_acc: 0.7588\n",
      "Epoch 5/5\n",
      "50712/50712 [==============================] - 28s 561us/step - loss: 0.3088 - acc: 0.8778 - val_loss: 0.6868 - val_acc: 0.7567\n"
     ]
    }
   ],
   "source": [
    "def model3(X_train, y_train):   \n",
    "    features = 3500\n",
    "    shufle = True\n",
    "    drop = 0.5\n",
    "    layer1 = 512\n",
    "    layer2 = 256\n",
    "    epoch = 5\n",
    "    lr = 0.002\n",
    "    epsilon = None\n",
    "    validation = 0.1\n",
    "    X_train_mod = tokenization_tweets(X_train, features)\n",
    "    model = train(X_train_mod, y_train, features, shufle, drop, layer1, layer2, epoch, lr, epsilon, validation)\n",
    "    return model;\n",
    "model_final = model3(X_train, y_train)"
   ]
  },
  {
   "cell_type": "code",
   "execution_count": 35,
   "metadata": {},
   "outputs": [
    {
     "name": "stdout",
     "output_type": "stream",
     "text": [
      "Train on 50712 samples, validate on 5635 samples\n",
      "Epoch 1/2\n",
      "50712/50712 [==============================] - 48s 940us/step - loss: 0.7415 - acc: 0.6609 - val_loss: 0.6593 - val_acc: 0.6978\n",
      "Epoch 2/2\n",
      "50712/50712 [==============================] - 46s 916us/step - loss: 0.5386 - acc: 0.7729 - val_loss: 0.6040 - val_acc: 0.7464\n"
     ]
    },
    {
     "data": {
      "text/plain": [
       "<keras.engine.sequential.Sequential at 0x147743f98>"
      ]
     },
     "execution_count": 35,
     "metadata": {},
     "output_type": "execute_result"
    }
   ],
   "source": [
    "def model4(X_train, y_train):   \n",
    "    features = 5000\n",
    "    shufle = True\n",
    "    drop = 0.5\n",
    "    layer1 = 512\n",
    "    layer2 = 256\n",
    "    epoch = 2\n",
    "    lr = 0.005\n",
    "    epsilon = None\n",
    "    validation = 0.1\n",
    "    X_train_mod = tokenization_tweets(X_train, features)\n",
    "    model = train(X_train_mod, y_train, features, shufle, drop, layer1, layer2, epoch, lr, epsilon, validation)\n",
    "    return model;\n",
    "model4(X_train, y_train)"
   ]
  },
  {
   "cell_type": "code",
   "execution_count": 36,
   "metadata": {},
   "outputs": [
    {
     "name": "stdout",
     "output_type": "stream",
     "text": [
      "Train on 50712 samples, validate on 5635 samples\n",
      "Epoch 1/5\n",
      "50712/50712 [==============================] - 35s 682us/step - loss: 0.7565 - acc: 0.6494 - val_loss: 0.6422 - val_acc: 0.7177\n",
      "Epoch 2/5\n",
      "50712/50712 [==============================] - 33s 641us/step - loss: 0.5799 - acc: 0.7501 - val_loss: 0.6225 - val_acc: 0.7390\n",
      "Epoch 3/5\n",
      "50712/50712 [==============================] - 31s 617us/step - loss: 0.4789 - acc: 0.7993 - val_loss: 0.6002 - val_acc: 0.7528\n",
      "Epoch 4/5\n",
      "50712/50712 [==============================] - 30s 585us/step - loss: 0.3826 - acc: 0.8435 - val_loss: 0.6432 - val_acc: 0.7555\n",
      "Epoch 5/5\n",
      "50712/50712 [==============================] - 29s 579us/step - loss: 0.3044 - acc: 0.8781 - val_loss: 0.7099 - val_acc: 0.7567\n"
     ]
    },
    {
     "data": {
      "text/plain": [
       "<keras.engine.sequential.Sequential at 0x149992f28>"
      ]
     },
     "execution_count": 36,
     "metadata": {},
     "output_type": "execute_result"
    }
   ],
   "source": [
    "def model5(X_train, y_train):   \n",
    "    features = 3500\n",
    "    shufle = True\n",
    "    drop = 0.5\n",
    "    layer1 = 512\n",
    "    layer2 = 256\n",
    "    epoch = 5\n",
    "    lr = 0.002\n",
    "    epsilon = 1e-5\n",
    "    validation = 0.1\n",
    "    X_train_mod = tokenization_tweets(X_train, features)\n",
    "    model = train(X_train_mod, y_train, features, shufle, drop, layer1, layer2, epoch, lr, epsilon, validation)\n",
    "    return model;\n",
    "model5(X_train, y_train)"
   ]
  },
  {
   "cell_type": "code",
   "execution_count": 37,
   "metadata": {},
   "outputs": [
    {
     "name": "stdout",
     "output_type": "stream",
     "text": [
      "Train on 50712 samples, validate on 5635 samples\n",
      "Epoch 1/5\n",
      "50712/50712 [==============================] - 31s 611us/step - loss: 0.7512 - acc: 0.6506 - val_loss: 0.6474 - val_acc: 0.7154\n",
      "Epoch 2/5\n",
      "50712/50712 [==============================] - 30s 588us/step - loss: 0.5740 - acc: 0.7541 - val_loss: 0.6135 - val_acc: 0.7429\n",
      "Epoch 3/5\n",
      "50712/50712 [==============================] - 30s 584us/step - loss: 0.4728 - acc: 0.8011 - val_loss: 0.6122 - val_acc: 0.7555\n",
      "Epoch 4/5\n",
      "50712/50712 [==============================] - 30s 583us/step - loss: 0.3772 - acc: 0.8446 - val_loss: 0.6569 - val_acc: 0.7601\n",
      "Epoch 5/5\n",
      "50712/50712 [==============================] - 29s 575us/step - loss: 0.2982 - acc: 0.8799 - val_loss: 0.7419 - val_acc: 0.7622\n"
     ]
    },
    {
     "data": {
      "text/plain": [
       "<keras.engine.sequential.Sequential at 0x138767978>"
      ]
     },
     "execution_count": 37,
     "metadata": {},
     "output_type": "execute_result"
    }
   ],
   "source": [
    "def model6(X_train, y_train):   \n",
    "    features = 3500\n",
    "    shufle = True\n",
    "    drop = 0.5\n",
    "    layer1 = 512\n",
    "    layer2 = 256\n",
    "    epoch = 5\n",
    "    lr = 0.002\n",
    "    epsilon = 1e-8\n",
    "    validation = 0.1\n",
    "    X_train_mod = tokenization_tweets(X_train, features)\n",
    "    model = train(X_train_mod, y_train, features, shufle, drop, layer1, layer2, epoch, lr, epsilon, validation)\n",
    "    return model;\n",
    "model6(X_train, y_train)"
   ]
  },
  {
   "cell_type": "code",
   "execution_count": 21,
   "metadata": {},
   "outputs": [],
   "source": [
    "def model7(X_train, y_train):   \n",
    "    features = 3500\n",
    "    shufle = True\n",
    "    drop = 0.5\n",
    "    layer1 = 512\n",
    "    layer2 = 256\n",
    "    epoch = 6\n",
    "    lr = 0.002\n",
    "    epsilon = 1e-8\n",
    "    validation = 0.1\n",
    "    X_train_mod = tokenization_tweets(X_train, features)\n",
    "    model = train(X_train_mod, y_train, features, shufle, drop, layer1, layer2, epoch, lr, epsilon, validation)\n",
    "    return model;\n",
    "#model7(X_train, y_train)"
   ]
  },
  {
   "cell_type": "code",
   "execution_count": 39,
   "metadata": {},
   "outputs": [
    {
     "name": "stdout",
     "output_type": "stream",
     "text": [
      "Train on 50712 samples, validate on 5635 samples\n",
      "Epoch 1/5\n",
      "50712/50712 [==============================] - 31s 604us/step - loss: 0.7501 - acc: 0.6550 - val_loss: 0.6384 - val_acc: 0.7169\n",
      "Epoch 2/5\n",
      "50712/50712 [==============================] - 30s 585us/step - loss: 0.5578 - acc: 0.7635 - val_loss: 0.6035 - val_acc: 0.7446\n",
      "Epoch 3/5\n",
      "50712/50712 [==============================] - 31s 612us/step - loss: 0.4481 - acc: 0.8158 - val_loss: 0.6171 - val_acc: 0.7535\n",
      "Epoch 4/5\n",
      "50712/50712 [==============================] - 30s 596us/step - loss: 0.3473 - acc: 0.8606 - val_loss: 0.6674 - val_acc: 0.7544\n",
      "Epoch 5/5\n",
      "50712/50712 [==============================] - 29s 579us/step - loss: 0.2718 - acc: 0.8933 - val_loss: 0.7278 - val_acc: 0.7583\n"
     ]
    },
    {
     "data": {
      "text/plain": [
       "<keras.engine.sequential.Sequential at 0x14d1d12e8>"
      ]
     },
     "execution_count": 39,
     "metadata": {},
     "output_type": "execute_result"
    }
   ],
   "source": [
    "def model8(X_train, y_train):   \n",
    "    features = 3500\n",
    "    shufle = True\n",
    "    drop = 0.5\n",
    "    layer1 = 512\n",
    "    layer2 = 256\n",
    "    epoch = 5\n",
    "    lr = 0.002\n",
    "    epsilon = 1e-9\n",
    "    validation = 0.1\n",
    "    X_train_mod = tokenization_tweets(X_train, features)\n",
    "    model = train(X_train_mod, y_train, features, shufle, drop, layer1, layer2, epoch, lr, epsilon, validation)\n",
    "    return model;\n",
    "model8(X_train, y_train)"
   ]
  },
  {
   "cell_type": "code",
   "execution_count": 40,
   "metadata": {},
   "outputs": [
    {
     "name": "stdout",
     "output_type": "stream",
     "text": [
      "Train on 50712 samples, validate on 5635 samples\n",
      "Epoch 1/5\n",
      "50712/50712 [==============================] - 32s 627us/step - loss: 0.7528 - acc: 0.6510 - val_loss: 0.6414 - val_acc: 0.7235\n",
      "Epoch 2/5\n",
      "50712/50712 [==============================] - 31s 604us/step - loss: 0.5797 - acc: 0.7487 - val_loss: 0.6163 - val_acc: 0.7363\n",
      "Epoch 3/5\n",
      "50712/50712 [==============================] - 30s 594us/step - loss: 0.4815 - acc: 0.7966 - val_loss: 0.6467 - val_acc: 0.7448\n",
      "Epoch 4/5\n",
      "50712/50712 [==============================] - 30s 584us/step - loss: 0.3849 - acc: 0.8397 - val_loss: 0.7066 - val_acc: 0.7491\n",
      "Epoch 5/5\n",
      "50712/50712 [==============================] - 29s 572us/step - loss: 0.3099 - acc: 0.8756 - val_loss: 0.7812 - val_acc: 0.7516\n"
     ]
    },
    {
     "data": {
      "text/plain": [
       "<keras.engine.sequential.Sequential at 0x152d16cf8>"
      ]
     },
     "execution_count": 40,
     "metadata": {},
     "output_type": "execute_result"
    }
   ],
   "source": [
    "def model9(X_train, y_train):   \n",
    "    features = 3500\n",
    "    shufle = False\n",
    "    drop = 0.5\n",
    "    layer1 = 512\n",
    "    layer2 = 256\n",
    "    epoch = 5\n",
    "    lr = 0.002\n",
    "    epsilon = 1e-9\n",
    "    validation = 0.1\n",
    "    X_train_mod = tokenization_tweets(X_train, features)\n",
    "    model = train(X_train_mod, y_train, features, shufle, drop, layer1, layer2, epoch, lr, epsilon, validation)\n",
    "    return model;\n",
    "model9(X_train, y_train)"
   ]
  },
  {
   "cell_type": "code",
   "execution_count": 42,
   "metadata": {},
   "outputs": [
    {
     "name": "stdout",
     "output_type": "stream",
     "text": [
      "Train on 45077 samples, validate on 11270 samples\n",
      "Epoch 1/5\n",
      "45077/45077 [==============================] - 29s 638us/step - loss: 0.7670 - acc: 0.6466 - val_loss: 0.6403 - val_acc: 0.7220\n",
      "Epoch 2/5\n",
      "45077/45077 [==============================] - 28s 613us/step - loss: 0.5729 - acc: 0.7542 - val_loss: 0.6180 - val_acc: 0.7405\n",
      "Epoch 3/5\n",
      "45077/45077 [==============================] - 27s 603us/step - loss: 0.4638 - acc: 0.8089 - val_loss: 0.6058 - val_acc: 0.7507\n",
      "Epoch 4/5\n",
      "45077/45077 [==============================] - 27s 594us/step - loss: 0.3630 - acc: 0.8544 - val_loss: 0.6533 - val_acc: 0.7577\n",
      "Epoch 5/5\n",
      "45077/45077 [==============================] - 26s 587us/step - loss: 0.2856 - acc: 0.8895 - val_loss: 0.7454 - val_acc: 0.7541\n"
     ]
    },
    {
     "data": {
      "text/plain": [
       "<keras.engine.sequential.Sequential at 0x15981aa58>"
      ]
     },
     "execution_count": 42,
     "metadata": {},
     "output_type": "execute_result"
    }
   ],
   "source": [
    "def model10(X_train, y_train):   \n",
    "    features = 3500\n",
    "    shufle = True\n",
    "    drop = 0.5\n",
    "    layer1 = 512\n",
    "    layer2 = 256\n",
    "    epoch = 5\n",
    "    lr = 0.002\n",
    "    epsilon = 1e-9\n",
    "    validation = 0.2\n",
    "    X_train_mod = tokenization_tweets(X_train, features)\n",
    "    model = train(X_train_mod, y_train, features, shufle, drop, layer1, layer2, epoch, lr, epsilon, validation)\n",
    "    return model;\n",
    "model10(X_train, y_train)"
   ]
  },
  {
   "cell_type": "code",
   "execution_count": 43,
   "metadata": {},
   "outputs": [
    {
     "name": "stdout",
     "output_type": "stream",
     "text": [
      "Train on 45077 samples, validate on 11270 samples\n",
      "Epoch 1/5\n",
      "45077/45077 [==============================] - 24s 536us/step - loss: 0.7652 - acc: 0.6451 - val_loss: 0.6463 - val_acc: 0.7149\n",
      "Epoch 2/5\n",
      "45077/45077 [==============================] - 23s 520us/step - loss: 0.5918 - acc: 0.7443 - val_loss: 0.6155 - val_acc: 0.7323\n",
      "Epoch 3/5\n",
      "45077/45077 [==============================] - 23s 509us/step - loss: 0.4941 - acc: 0.7930 - val_loss: 0.6149 - val_acc: 0.7403\n",
      "Epoch 4/5\n",
      "45077/45077 [==============================] - 23s 505us/step - loss: 0.4027 - acc: 0.8348 - val_loss: 0.6474 - val_acc: 0.7509\n",
      "Epoch 5/5\n",
      "45077/45077 [==============================] - 23s 499us/step - loss: 0.3196 - acc: 0.8720 - val_loss: 0.7078 - val_acc: 0.7446\n"
     ]
    },
    {
     "data": {
      "text/plain": [
       "<keras.engine.sequential.Sequential at 0x15a1c9048>"
      ]
     },
     "execution_count": 43,
     "metadata": {},
     "output_type": "execute_result"
    }
   ],
   "source": [
    "def model11(X_train, y_train):   \n",
    "    features = 3000\n",
    "    shufle = True\n",
    "    drop = 0.5\n",
    "    layer1 = 512\n",
    "    layer2 = 256\n",
    "    epoch = 5\n",
    "    lr = 0.002\n",
    "    epsilon = 1e-9\n",
    "    validation = 0.2\n",
    "    X_train_mod = tokenization_tweets(X_train, features)\n",
    "    model = train(X_train_mod, y_train, features, shufle, drop, layer1, layer2, epoch, lr, epsilon, validation)\n",
    "    return model;\n",
    "model11(X_train, y_train)"
   ]
  },
  {
   "cell_type": "code",
   "execution_count": 22,
   "metadata": {},
   "outputs": [
    {
     "name": "stdout",
     "output_type": "stream",
     "text": [
      "Train on 50712 samples, validate on 5635 samples\n",
      "Epoch 1/6\n",
      "50712/50712 [==============================] - 31s 605us/step - loss: 0.7494 - acc: 0.6563 - val_loss: 0.6383 - val_acc: 0.7184\n",
      "Epoch 2/6\n",
      "50712/50712 [==============================] - 30s 592us/step - loss: 0.5682 - acc: 0.7579 - val_loss: 0.6104 - val_acc: 0.7372\n",
      "Epoch 3/6\n",
      "50712/50712 [==============================] - 30s 585us/step - loss: 0.4699 - acc: 0.8040 - val_loss: 0.6132 - val_acc: 0.7473\n",
      "Epoch 4/6\n",
      "50712/50712 [==============================] - 29s 577us/step - loss: 0.3716 - acc: 0.8485 - val_loss: 0.6809 - val_acc: 0.7500\n",
      "Epoch 5/6\n",
      "50712/50712 [==============================] - 29s 571us/step - loss: 0.2952 - acc: 0.8828 - val_loss: 0.7199 - val_acc: 0.7595\n",
      "Epoch 6/6\n",
      "50712/50712 [==============================] - 29s 571us/step - loss: 0.2402 - acc: 0.9057 - val_loss: 0.8126 - val_acc: 0.7618\n"
     ]
    }
   ],
   "source": [
    "def save_model(model):\n",
    "    model_json = model.to_json()\n",
    "    with open('model.json', 'w') as json_file:\n",
    "        json_file.write(model_json)\n",
    "\n",
    "    model.save_weights('model.h5')\n",
    "\n",
    "model_final = model7(X_train, y_train)\n",
    "save_model(model_final)"
   ]
  },
  {
   "cell_type": "code",
   "execution_count": 33,
   "metadata": {},
   "outputs": [],
   "source": [
    "if __name__ == \"__main__\":\n",
    "    tabletweetsnew = \"tweets_predict_avengers\"\n",
    "    tweet_table_new = query_database(tabletweetsnew)\n",
    "    tweet_table_new = cleaning_table(tweet_table_new)"
   ]
  },
  {
   "cell_type": "code",
   "execution_count": 36,
   "metadata": {},
   "outputs": [],
   "source": [
    "if __name__ == \"__main__\":\n",
    "    X_new = tokenization_tweets(tweet_table_new.tweet, 3500)\n",
    "    new_prediction = model_final.predict(X_new)"
   ]
  },
  {
   "cell_type": "code",
   "execution_count": 88,
   "metadata": {},
   "outputs": [],
   "source": [
    "if __name__ == \"__main__\":\n",
    "    labels = ['Negative', 'Neutral', 'Positive']\n",
    "    sentiments = [labels[np.argmax(pred)] for pred in new_prediction]\n",
    "    tweet_table_new[\"sentiment\"] = sentiments"
   ]
  },
  {
   "cell_type": "code",
   "execution_count": 103,
   "metadata": {},
   "outputs": [
    {
     "data": {
      "image/png": "[encoded data removed]",
      "text/plain": [
       "<Figure size 360x360 with 1 Axes>"
      ]
     },
     "metadata": {},
     "output_type": "display_data"
    }
   ],
   "source": [
    "sizes = [sentiments.count('Negative'), sentiments.count('Neutral'), sentiments.count('Positive')]\n",
    "explode = (0, 0, 0.1)\n",
    "labels = 'Negative', 'Neutral', 'Positive'\n",
    "plt.figure(figsize=(5,5))\n",
    "plt.pie(sizes, explode=explode, colors=\"bwr\", labels=labels, autopct='%1.1f%%',\n",
    "        shadow=True, startangle=90, wedgeprops={'alpha':0.8})\n",
    "plt.axis('equal') \n",
    "plt.show()"
   ]
  },
  {
   "cell_type": "code",
   "execution_count": 105,
   "metadata": {},
   "outputs": [],
   "source": [
    "if __name__ == \"__main__\":\n",
    "    engine = create_engine(\"postgresql+psycopg2://%s:%s@%s:%d/%s\" %(usertwitter, passwordtwitter, hosttwitter, porttwitter, dbnametwitter))\n",
    "    tweet_table_new.to_sql(\"tweets_avengers_new_labeled\", con=engine, if_exists=\"append\") "
   ]
  },
  {
   "cell_type": "markdown",
   "metadata": {},
   "source": [
    " "
   ]
  },
  {
   "cell_type": "markdown",
   "metadata": {},
   "source": [
    "  "
   ]
  },
  {
   "cell_type": "markdown",
   "metadata": {},
   "source": [
    "### Extra analysis for interaction network"
   ]
  },
  {
   "cell_type": "code",
   "execution_count": 24,
   "metadata": {},
   "outputs": [],
   "source": [
    "if __name__ == \"__main__\":\n",
    "    tweet_table_interaction = pd.read_csv(\"tweets_final.csv\")\n",
    "    tweet_table_interaction.rename(columns = {\"text\": \"tweet\"}, inplace=True)\n",
    "    tweet_table_interaction = cleaning_table(tweet_table_interaction) \n",
    "    X_interaction = tokenization_tweets(tweet_table_interaction.tweet, 3500)"
   ]
  },
  {
   "cell_type": "code",
   "execution_count": 27,
   "metadata": {},
   "outputs": [],
   "source": [
    "if __name__ == \"__main__\":\n",
    "    # Open json file of saved model\n",
    "    json_file = open('model.json', 'r')\n",
    "    loaded_model_json = json_file.read()\n",
    "    json_file.close()\n",
    "    # Create a model \n",
    "    model = model_from_json(loaded_model_json)\n",
    "    # Weight nodes with saved values\n",
    "    model.load_weights('model.h5')"
   ]
  },
  {
   "cell_type": "code",
   "execution_count": 28,
   "metadata": {},
   "outputs": [],
   "source": [
    "if __name__ == \"__main__\":\n",
    "    int_prediction = model.predict(X_interaction)\n",
    "    labels = ['Negative', 'Neutral', 'Positive']\n",
    "    sentiments = [labels[np.argmax(pred)] for pred in int_prediction]\n",
    "    tweet_table_interaction[\"sentiment\"] = sentiments"
   ]
  },
  {
   "cell_type": "code",
   "execution_count": 30,
   "metadata": {},
   "outputs": [],
   "source": [
    "tweet_table_interaction.to_csv(\"tweets_final_sentiment.csv\")"
   ]
  }
 ],
 "metadata": {
  "kernelspec": {
   "display_name": "Python 3",
   "language": "python",
   "name": "python3"
  },
  "language_info": {
   "codemirror_mode": {
    "name": "ipython",
    "version": 3
   },
   "file_extension": ".py",
   "mimetype": "text/x-python",
   "name": "python",
   "nbconvert_exporter": "python",
   "pygments_lexer": "ipython3",
   "version": "3.6.6"
  }
 },
 "nbformat": 4,
 "nbformat_minor": 2
}
